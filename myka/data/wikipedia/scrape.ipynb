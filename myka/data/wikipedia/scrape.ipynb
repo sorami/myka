{
 "cells": [
  {
   "cell_type": "markdown",
   "metadata": {},
   "source": [
    "# Retrieving Titles from Wikipedia Dump Data"
   ]
  },
  {
   "cell_type": "code",
   "execution_count": 1,
   "metadata": {
    "collapsed": true
   },
   "outputs": [],
   "source": [
    "from lxml import etree"
   ]
  },
  {
   "cell_type": "code",
   "execution_count": 2,
   "metadata": {
    "collapsed": true
   },
   "outputs": [],
   "source": [
    "import re"
   ]
  },
  {
   "cell_type": "markdown",
   "metadata": {},
   "source": [
    "---"
   ]
  },
  {
   "cell_type": "code",
   "execution_count": 3,
   "metadata": {
    "collapsed": true
   },
   "outputs": [],
   "source": [
    "def get_titles(fpath):\n",
    "    tree = etree.parse(fpath)\n",
    "\n",
    "    list_titles = []\n",
    "    for elm in tree.xpath(\"//*/@title\"):\n",
    "        title = str(elm)\n",
    "        if not re.search('[0-9a-zA-Z]', title):\n",
    "            list_titles.append(title)\n",
    "\n",
    "    return(list_titles)"
   ]
  },
  {
   "cell_type": "markdown",
   "metadata": {},
   "source": [
    "## My"
   ]
  },
  {
   "cell_type": "code",
   "execution_count": 4,
   "metadata": {},
   "outputs": [
    {
     "data": {
      "text/plain": [
       "5474"
      ]
     },
     "execution_count": 4,
     "metadata": {},
     "output_type": "execute_result"
    }
   ],
   "source": [
    "list_my = get_titles(\"./mywiki-20170901-pages-meta-current.xml\")\n",
    "len(list_my)"
   ]
  },
  {
   "cell_type": "code",
   "execution_count": 5,
   "metadata": {
    "scrolled": true
   },
   "outputs": [
    {
     "data": {
      "text/plain": [
       "['ဗဟိုစာမျက်နှာ',\n",
       " 'မြန်မာဘာသာစကား',\n",
       " 'လေကြောင်း နှင့် အာကာသပညာ',\n",
       " 'ဆင်ဖြူရှင်မင်း',\n",
       " 'သန်းထွန်း (ဒေါက်တာ)']"
      ]
     },
     "execution_count": 5,
     "metadata": {},
     "output_type": "execute_result"
    }
   ],
   "source": [
    "list_my[:5]"
   ]
  },
  {
   "cell_type": "code",
   "execution_count": 6,
   "metadata": {
    "collapsed": true
   },
   "outputs": [],
   "source": [
    "with open(\"../my.txt\", \"w\") as f:\n",
    "    print(\"\\n\".join(list_my), file=f)"
   ]
  },
  {
   "cell_type": "code",
   "execution_count": 7,
   "metadata": {},
   "outputs": [
    {
     "name": "stdout",
     "output_type": "stream",
     "text": [
      "ဗဟိုစာမျက်နှာ\r\n",
      "မြန်မာဘာသာစကား\r\n",
      "လေကြောင်း နှင့် အာကာသပညာ\r\n",
      "ဆင်ဖြူရှင်မင်း\r\n",
      "သန်းထွန်း (ဒေါက်တာ)\r\n",
      "ကိုရမ်ကျမ်း\r\n",
      "နု၊ ဦး\r\n",
      "သန်းရွှေ၊ (ဗိုလ်ချုပ်မှူးကြီး)\r\n",
      "အမျိုးသား ဒီမိုကရေစီ အဖွဲ့ချုပ်\r\n",
      "မြန်မာနိုင်ငံ၏ စီးပွားရေး\r\n"
     ]
    }
   ],
   "source": [
    "!head ../my.txt"
   ]
  },
  {
   "cell_type": "markdown",
   "metadata": {},
   "source": [
    "## Ka"
   ]
  },
  {
   "cell_type": "code",
   "execution_count": 8,
   "metadata": {},
   "outputs": [
    {
     "data": {
      "text/plain": [
       "39198"
      ]
     },
     "execution_count": 8,
     "metadata": {},
     "output_type": "execute_result"
    }
   ],
   "source": [
    "list_ka = get_titles(\"./kawiki-20170901-pages-meta-current.xml\")\n",
    "len(list_ka)"
   ]
  },
  {
   "cell_type": "code",
   "execution_count": 9,
   "metadata": {},
   "outputs": [
    {
     "data": {
      "text/plain": [
       "['საქართველოს სახელმწიფო ჰიმნი',\n",
       " 'თარგი:ვიკიციტატა',\n",
       " 'თარგი:ესკიზი',\n",
       " 'ვიკიპედია:პასუხისმგებლობის უარყოფა',\n",
       " 'გაეროს განვითარების პროგრამა']"
      ]
     },
     "execution_count": 9,
     "metadata": {},
     "output_type": "execute_result"
    }
   ],
   "source": [
    "list_ka[:5]"
   ]
  },
  {
   "cell_type": "code",
   "execution_count": 10,
   "metadata": {
    "collapsed": true
   },
   "outputs": [],
   "source": [
    "with open(\"../ka.txt\", \"w\") as f:\n",
    "    print(\"\\n\".join(list_ka), file=f)"
   ]
  },
  {
   "cell_type": "code",
   "execution_count": 11,
   "metadata": {},
   "outputs": [
    {
     "name": "stdout",
     "output_type": "stream",
     "text": [
      "საქართველოს სახელმწიფო ჰიმნი\r\n",
      "თარგი:ვიკიციტატა\r\n",
      "თარგი:ესკიზი\r\n",
      "ვიკიპედია:პასუხისმგებლობის უარყოფა\r\n",
      "გაეროს განვითარების პროგრამა\r\n",
      "ტყაშმაფა\r\n",
      "ქართული დამწერლობა\r\n",
      "თარგი:აფხაზეთის ადმინისტრაციული დაყოფა\r\n",
      "განხილვა:ედუარდ შევარდნაძე\r\n",
      "ლეონარდო და ვინჩი\r\n"
     ]
    }
   ],
   "source": [
    "!head ../ka.txt"
   ]
  },
  {
   "cell_type": "markdown",
   "metadata": {
    "collapsed": true
   },
   "source": [
    "## My/Ka"
   ]
  },
  {
   "cell_type": "code",
   "execution_count": 14,
   "metadata": {},
   "outputs": [],
   "source": [
    "with open(\"../myka.tsv\", \"w\") as f:\n",
    "    for i, (lang, title) in enumerate( [(\"my\", t) for t in list_my] + [(\"ka\", t) for t in list_ka], start=1 ):\n",
    "        print(\"{}\\t{}\\t{}\".format(i, lang, title), file=f)"
   ]
  },
  {
   "cell_type": "code",
   "execution_count": 17,
   "metadata": {},
   "outputs": [
    {
     "name": "stdout",
     "output_type": "stream",
     "text": [
      "1\tmy\tဗဟိုစာမျက်နှာ\r\n",
      "2\tmy\tမြန်မာဘာသာစကား\r\n",
      "3\tmy\tလေကြောင်း နှင့် အာကာသပညာ\r\n",
      "4\tmy\tဆင်ဖြူရှင်မင်း\r\n",
      "5\tmy\tသန်းထွန်း (ဒေါက်တာ)\r\n",
      "6\tmy\tကိုရမ်ကျမ်း\r\n",
      "7\tmy\tနု၊ ဦး\r\n",
      "8\tmy\tသန်းရွှေ၊ (ဗိုလ်ချုပ်မှူးကြီး)\r\n",
      "9\tmy\tအမျိုးသား ဒီမိုကရေစီ အဖွဲ့ချုပ်\r\n",
      "10\tmy\tမြန်မာနိုင်ငံ၏ စီးပွားရေး\r\n"
     ]
    }
   ],
   "source": [
    "!head ../myka.tsv"
   ]
  },
  {
   "cell_type": "code",
   "execution_count": 16,
   "metadata": {},
   "outputs": [
    {
     "name": "stdout",
     "output_type": "stream",
     "text": [
      "44663\tka\tჯ. რ. რ. ტოლკინი: მხატვარი და ილუსტრატორი\r\n",
      "44664\tka\tჯ. რ. რ. ტოლკინის თანამგზავრი და მეგზური\r\n",
      "44665\tka\tჯ. რ. რ. ტოლკინი: ბიოგრაფია\r\n",
      "44666\tka\tშუაველი\r\n",
      "44667\tka\tთარგი:დორტმუნდის ბორუსიას შემადგენლობა\r\n",
      "44668\tka\tაინურნი\r\n",
      "44669\tka\tგანხილვა:აინურნი\r\n",
      "44670\tka\tთარგი:აინურნი\r\n",
      "44671\tka\tვიკიპედია:ვიკიპროექტი:ჩრდილოეთი კორეა\r\n",
      "44672\tka\tთარგი:ვოლფსბურგის შემადგენლობა\r\n"
     ]
    }
   ],
   "source": [
    "!tail ../myka.tsv"
   ]
  }
 ],
 "metadata": {
  "kernelspec": {
   "display_name": "Python 3",
   "language": "python",
   "name": "python3"
  },
  "language_info": {
   "codemirror_mode": {
    "name": "ipython",
    "version": 3
   },
   "file_extension": ".py",
   "mimetype": "text/x-python",
   "name": "python",
   "nbconvert_exporter": "python",
   "pygments_lexer": "ipython3",
   "version": "3.6.1"
  }
 },
 "nbformat": 4,
 "nbformat_minor": 2
}
